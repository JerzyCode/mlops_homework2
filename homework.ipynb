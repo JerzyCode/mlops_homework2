{
 "cells": [
  {
   "cell_type": "markdown",
   "id": "41cc11f3",
   "metadata": {},
   "source": [
    "# Homework 2 MLOPS\n",
    "\n",
    "Jerzy Boksa"
   ]
  },
  {
   "cell_type": "code",
   "execution_count": 1,
   "id": "55ec1b0c",
   "metadata": {},
   "outputs": [],
   "source": [
    "import pandas as pd\n",
    "import numpy as np\n",
    "import matplotlib.pyplot as plt\n",
    "import duckdb\n",
    "import requests\n",
    "import psycopg\n",
    "from pathlib import Path\n",
    "import os\n",
    "import gzip\n",
    "import shutil"
   ]
  },
  {
   "cell_type": "markdown",
   "id": "9b6a8dc1",
   "metadata": {},
   "source": [
    "## 1. Download data"
   ]
  },
  {
   "cell_type": "code",
   "execution_count": 3,
   "id": "1d4ecb50",
   "metadata": {},
   "outputs": [],
   "source": [
    "DATA_DIR = \"./data\"\n",
    "Path(DATA_DIR).mkdir(parents=True, exist_ok=True)\n",
    "\n",
    "\n",
    "def download_data(url: str, name: str) -> None:\n",
    "    response = requests.get(url)\n",
    "    response.raise_for_status()\n",
    "\n",
    "    file_path = Path(os.path.join(DATA_DIR, name))\n",
    "    file_path.write_bytes(response.content)\n",
    "\n",
    "    print(\n",
    "        f\"Downloaded '{name}', size: {file_path.stat().st_size / (1024 * 1024):.2f} mb\"\n",
    "    )\n",
    "\n",
    "\n",
    "def download_and_unpack(url: str, name: str) -> None:\n",
    "    response = requests.get(url)\n",
    "    response.raise_for_status()\n",
    "\n",
    "    gz_path = Path(os.path.join(DATA_DIR, name + \".gz\"))\n",
    "    gz_path.write_bytes(response.content)\n",
    "\n",
    "    csv_path = Path(os.path.join(DATA_DIR, name))\n",
    "\n",
    "    with gzip.open(gz_path, \"rb\") as f_in:\n",
    "        with open(csv_path, \"wb\") as f_out:\n",
    "            shutil.copyfileobj(f_in, f_out)\n",
    "\n",
    "    print(\n",
    "        f\"Downloaded and unpacked '{name}', size: {csv_path.stat().st_size / (1024 * 1024):.2f} MB\"\n",
    "    )\n",
    "\n",
    "    gz_path.unlink()"
   ]
  },
  {
   "cell_type": "markdown",
   "id": "2b1f34c3",
   "metadata": {},
   "source": [
    "### Inter station distances"
   ]
  },
  {
   "cell_type": "code",
   "execution_count": 17,
   "id": "5d78bb2d",
   "metadata": {},
   "outputs": [
    {
     "name": "stdout",
     "output_type": "stream",
     "text": [
      "Downloaded 'distances_2022.csv', size: 0.56 mb\n"
     ]
    }
   ],
   "source": [
    "download_data(\n",
    "    \"https://opendata.rijdendetreinen.nl/public/tariff-distances/tariff-distances-2022-01.csv\",\n",
    "    \"distances_2022.csv\",\n",
    ")"
   ]
  },
  {
   "cell_type": "markdown",
   "id": "c1daff50",
   "metadata": {},
   "source": [
    "### Railway stations"
   ]
  },
  {
   "cell_type": "code",
   "execution_count": 31,
   "id": "180f4391",
   "metadata": {},
   "outputs": [
    {
     "name": "stdout",
     "output_type": "stream",
     "text": [
      "Downloaded 'stations_2023.csv', size: 0.06 mb\n"
     ]
    }
   ],
   "source": [
    "download_data(\n",
    "    \"https://opendata.rijdendetreinen.nl/public/stations/stations-2023-09.csv\",\n",
    "    \"stations_2023.csv\",\n",
    ")"
   ]
  },
  {
   "cell_type": "markdown",
   "id": "fdf890e3",
   "metadata": {},
   "source": [
    "### Train disruptions"
   ]
  },
  {
   "cell_type": "code",
   "execution_count": 4,
   "id": "24601ecb",
   "metadata": {},
   "outputs": [
    {
     "name": "stdout",
     "output_type": "stream",
     "text": [
      "Downloaded 'disruptions_2011.csv', size: 0.39 mb\n",
      "Downloaded 'disruptions_2012.csv', size: 0.45 mb\n",
      "Downloaded 'disruptions_2013.csv', size: 0.49 mb\n",
      "Downloaded 'disruptions_2014.csv', size: 0.52 mb\n",
      "Downloaded 'disruptions_2015.csv', size: 0.62 mb\n",
      "Downloaded 'disruptions_2016.csv', size: 0.64 mb\n",
      "Downloaded 'disruptions_2017.csv', size: 1.21 mb\n",
      "Downloaded 'disruptions_2018.csv', size: 1.51 mb\n",
      "Downloaded 'disruptions_2019.csv', size: 1.76 mb\n",
      "Downloaded 'disruptions_2020.csv', size: 1.28 mb\n",
      "Downloaded 'disruptions_2021.csv', size: 1.37 mb\n",
      "Downloaded 'disruptions_2022.csv', size: 1.62 mb\n",
      "Downloaded 'disruptions_2023.csv', size: 1.56 mb\n"
     ]
    }
   ],
   "source": [
    "disruption_paths = []\n",
    "disruption_years = [i for i in range(2011, 2024)]\n",
    "\n",
    "\n",
    "for year in disruption_years:\n",
    "    filename = f\"disruptions_{year}.csv\"\n",
    "    download_data(\n",
    "        f\"https://opendata.rijdendetreinen.nl/public/disruptions/disruptions-{year}.csv\",\n",
    "        filename,\n",
    "    )\n",
    "\n",
    "    disruption_paths.append(os.path.join(DATA_DIR, filename))"
   ]
  },
  {
   "cell_type": "markdown",
   "id": "de1dbd6d",
   "metadata": {},
   "source": [
    "### Train services"
   ]
  },
  {
   "cell_type": "code",
   "execution_count": 29,
   "id": "40c7b5fc",
   "metadata": {},
   "outputs": [
    {
     "name": "stdout",
     "output_type": "stream",
     "text": [
      "Downloaded and unpacked 'services_2019.csv', size: 2955.13 MB\n",
      "Downloaded and unpacked 'services_2020.csv', size: 3172.24 MB\n",
      "Downloaded and unpacked 'services_2021.csv', size: 3119.90 MB\n",
      "Downloaded and unpacked 'services_2022.csv', size: 3147.50 MB\n",
      "Downloaded and unpacked 'services_2023.csv', size: 3067.05 MB\n",
      "Downloaded and unpacked 'services_2024.csv', size: 3162.43 MB\n"
     ]
    }
   ],
   "source": [
    "services_paths = []\n",
    "services_years = [\n",
    "    i for i in range(2019, 2025)\n",
    "]  # note that only until 2024 year, there is no 2025.csv file\n",
    "\n",
    "for year in services_years:\n",
    "    # for month in range(1, 13):\n",
    "    filename = f\"services_{year}.csv\"\n",
    "    download_and_unpack(\n",
    "        f\"https://opendata.rijdendetreinen.nl/public/services/services-{year}.csv.gz\",\n",
    "        filename,\n",
    "    )\n",
    "\n",
    "    services_paths.append(os.path.join(DATA_DIR, filename))"
   ]
  },
  {
   "cell_type": "markdown",
   "id": "a615fa2a",
   "metadata": {},
   "source": [
    "## 2. Stations into duckdb "
   ]
  },
  {
   "cell_type": "code",
   "execution_count": 5,
   "id": "1434adda",
   "metadata": {},
   "outputs": [
    {
     "data": {
      "text/plain": [
       "┌─────────────┬─────────────┬─────────┬─────────┬─────────┬─────────┐\n",
       "│ column_name │ column_type │  null   │   key   │ default │  extra  │\n",
       "│   varchar   │   varchar   │ varchar │ varchar │ varchar │ varchar │\n",
       "├─────────────┼─────────────┼─────────┼─────────┼─────────┼─────────┤\n",
       "│ id          │ BIGINT      │ YES     │ NULL    │ NULL    │ NULL    │\n",
       "│ code        │ VARCHAR     │ YES     │ NULL    │ NULL    │ NULL    │\n",
       "│ uic         │ BIGINT      │ YES     │ NULL    │ NULL    │ NULL    │\n",
       "│ name_short  │ VARCHAR     │ YES     │ NULL    │ NULL    │ NULL    │\n",
       "│ name_medium │ VARCHAR     │ YES     │ NULL    │ NULL    │ NULL    │\n",
       "│ name_long   │ VARCHAR     │ YES     │ NULL    │ NULL    │ NULL    │\n",
       "│ slug        │ VARCHAR     │ YES     │ NULL    │ NULL    │ NULL    │\n",
       "│ country     │ VARCHAR     │ YES     │ NULL    │ NULL    │ NULL    │\n",
       "│ type        │ VARCHAR     │ YES     │ NULL    │ NULL    │ NULL    │\n",
       "│ geo_lat     │ DOUBLE      │ YES     │ NULL    │ NULL    │ NULL    │\n",
       "│ geo_lng     │ DOUBLE      │ YES     │ NULL    │ NULL    │ NULL    │\n",
       "├─────────────┴─────────────┴─────────┴─────────┴─────────┴─────────┤\n",
       "│ 11 rows                                                 6 columns │\n",
       "└───────────────────────────────────────────────────────────────────┘"
      ]
     },
     "execution_count": 5,
     "metadata": {},
     "output_type": "execute_result"
    }
   ],
   "source": [
    "duckdb.sql(\"\"\"\n",
    "CREATE TABLE IF NOT EXISTS stations AS\n",
    "SELECT * FROM read_csv_auto('data/stations_2023.csv')\n",
    "\"\"\")\n",
    "\n",
    "duckdb.sql(\"DESCRIBE stations\")"
   ]
  },
  {
   "cell_type": "markdown",
   "id": "9dc92537",
   "metadata": {},
   "source": [
    "## 3. distances and distances_long tables"
   ]
  },
  {
   "cell_type": "code",
   "execution_count": 6,
   "id": "ff832fc9",
   "metadata": {},
   "outputs": [
    {
     "data": {
      "text/plain": [
       "┌─────────────┬─────────────┬─────────┬─────────┬─────────┬─────────┐\n",
       "│ column_name │ column_type │  null   │   key   │ default │  extra  │\n",
       "│   varchar   │   varchar   │ varchar │ varchar │ varchar │ varchar │\n",
       "├─────────────┼─────────────┼─────────┼─────────┼─────────┼─────────┤\n",
       "│ Station     │ VARCHAR     │ YES     │ NULL    │ NULL    │ NULL    │\n",
       "│ AC          │ VARCHAR     │ YES     │ NULL    │ NULL    │ NULL    │\n",
       "│ AH          │ VARCHAR     │ YES     │ NULL    │ NULL    │ NULL    │\n",
       "│ AHP         │ VARCHAR     │ YES     │ NULL    │ NULL    │ NULL    │\n",
       "│ AHPR        │ VARCHAR     │ YES     │ NULL    │ NULL    │ NULL    │\n",
       "└─────────────┴─────────────┴─────────┴─────────┴─────────┴─────────┘"
      ]
     },
     "execution_count": 6,
     "metadata": {},
     "output_type": "execute_result"
    }
   ],
   "source": [
    "duckdb.sql(\"\"\"\n",
    "CREATE TABLE IF NOT EXISTS distances AS\n",
    "SELECT * FROM read_csv_auto('data/distances_2022.csv')\n",
    "\"\"\")\n",
    "\n",
    "duckdb.sql(\n",
    "    \"\"\"\n",
    "        FROM (DESCRIBE distances)\n",
    "        LIMIT 5;\n",
    "    \"\"\"\n",
    ")"
   ]
  },
  {
   "cell_type": "code",
   "execution_count": 7,
   "id": "2180f885",
   "metadata": {},
   "outputs": [
    {
     "data": {
      "text/plain": [
       "┌─────────┬───────────────┬──────────┐\n",
       "│ Station │ other_station │ distance │\n",
       "│ varchar │    varchar    │ varchar  │\n",
       "├─────────┼───────────────┼──────────┤\n",
       "│ AC      │ AC            │ XXX      │\n",
       "│ AC      │ AH            │ 82       │\n",
       "│ AC      │ AHP           │ 83       │\n",
       "└─────────┴───────────────┴──────────┘"
      ]
     },
     "execution_count": 7,
     "metadata": {},
     "output_type": "execute_result"
    }
   ],
   "source": [
    "duckdb.sql(\n",
    "    \"\"\"\n",
    "      CREATE TABLE IF NOT EXISTS distances_long AS\n",
    "        UNPIVOT distances\n",
    "        ON COLUMNS (* EXCLUDE station)\n",
    "        INTO NAME other_station VALUE distance;\n",
    "    \"\"\"\n",
    ")\n",
    "\n",
    "duckdb.sql(\n",
    "    \"\"\"\n",
    "        SELECT station, other_station, distance\n",
    "        FROM distances_long\n",
    "        LIMIT 3;\n",
    "    \"\"\"\n",
    ")"
   ]
  },
  {
   "cell_type": "markdown",
   "id": "7113c30d",
   "metadata": {},
   "source": [
    "## 4. Put train disruptions into disruptions table in the Postgres database"
   ]
  },
  {
   "cell_type": "markdown",
   "id": "671c1fa6",
   "metadata": {},
   "source": [
    "### Connection"
   ]
  },
  {
   "cell_type": "code",
   "execution_count": 8,
   "id": "209c5505",
   "metadata": {},
   "outputs": [],
   "source": [
    "duckdb.sql(\"\"\"INSTALL postgres; LOAD postgres;\"\"\")\n",
    "conn_string = \"host=localhost user=postgres password=postgres dbname=postgres\"\n",
    "\n",
    "duckdb.sql(\n",
    "    f\"\"\"\n",
    "        ATTACH IF NOT EXISTS '{conn_string}' AS pg (TYPE postgres, READ_WRITE);\n",
    "    \"\"\"\n",
    ")"
   ]
  },
  {
   "cell_type": "markdown",
   "id": "17cefb77",
   "metadata": {},
   "source": [
    "### Add files"
   ]
  },
  {
   "cell_type": "code",
   "execution_count": 9,
   "id": "864a6e45",
   "metadata": {},
   "outputs": [],
   "source": [
    "dfs = []\n",
    "for csv_path in disruption_paths:\n",
    "    csv_path = Path(csv_path)\n",
    "    year = int(csv_path.stem.split(\"_\")[1])\n",
    "    df = pd.read_csv(csv_path)\n",
    "    df[\"year\"] = year\n",
    "    dfs.append(df)\n",
    "\n",
    "all_disruptions = pd.concat(dfs, ignore_index=True)"
   ]
  },
  {
   "cell_type": "code",
   "execution_count": 10,
   "id": "e65a167b",
   "metadata": {},
   "outputs": [
    {
     "data": {
      "text/plain": [
       "┌──────────────┐\n",
       "│ count_star() │\n",
       "│    int64     │\n",
       "├──────────────┤\n",
       "│        49900 │\n",
       "└──────────────┘"
      ]
     },
     "execution_count": 10,
     "metadata": {},
     "output_type": "execute_result"
    }
   ],
   "source": [
    "for csv_path in disruption_paths:\n",
    "    duckdb.sql(\"\"\"\n",
    "            CREATE TABLE IF NOT EXISTS pg.disruptions AS\n",
    "            SELECT * FROM all_disruptions\n",
    "    \"\"\")\n",
    "\n",
    "duckdb.sql(\"\"\"\n",
    "           SELECT COUNT(*) FROM  pg.disruptions\n",
    "           \"\"\")"
   ]
  },
  {
   "cell_type": "markdown",
   "id": "3f5821e3",
   "metadata": {},
   "source": [
    "## 5. Transform train services CSV files into a single Parquet file and make table services."
   ]
  },
  {
   "cell_type": "code",
   "execution_count": null,
   "id": "d21201e7",
   "metadata": {},
   "outputs": [],
   "source": [
    "csv_paths_str = \", \".join(f\"'{str(f)}'\" for f in services_paths)\n",
    "\n",
    "duckdb.sql(f\"\"\"\n",
    "    COPY (\n",
    "        SELECT * FROM read_csv_auto([{csv_paths_str}])\n",
    "    ) TO 'data/services.parquet' (FORMAT PARQUET)\n",
    "\"\"\")"
   ]
  },
  {
   "cell_type": "code",
   "execution_count": 13,
   "id": "1fd2bc2c",
   "metadata": {},
   "outputs": [
    {
     "data": {
      "text/plain": [
       "┌──────────────┐\n",
       "│ count_star() │\n",
       "│    int64     │\n",
       "├──────────────┤\n",
       "│    129950013 │\n",
       "└──────────────┘"
      ]
     },
     "execution_count": 13,
     "metadata": {},
     "output_type": "execute_result"
    }
   ],
   "source": [
    "duckdb.sql(\n",
    "    \"\"\"\n",
    "SELECT COUNT(*) FROM read_parquet('data/services.parquet');\n",
    "    \"\"\"\n",
    ")"
   ]
  },
  {
   "cell_type": "code",
   "execution_count": 2,
   "id": "da896ad7",
   "metadata": {},
   "outputs": [
    {
     "data": {
      "text/plain": [
       "┌──────────────┐\n",
       "│ count_star() │\n",
       "│    int64     │\n",
       "├──────────────┤\n",
       "│    129950013 │\n",
       "└──────────────┘"
      ]
     },
     "execution_count": 2,
     "metadata": {},
     "output_type": "execute_result"
    }
   ],
   "source": [
    "# duckdb.sql(\"\"\"\n",
    "#     CREATE TABLE IF NOT EXISTS services AS\n",
    "#     SELECT * FROM read_parquet('data/services.parquet')\n",
    "# \"\"\")\n",
    "\n",
    "\n",
    "# MEMORY PROBLEMS THERE TO CREATE TABLE FROM ALL YEARS, COMPUTER CRASHES :(\n",
    "\n",
    "duckdb.sql(\n",
    "    \"\"\"\n",
    "        SELECT COUNT(*) FROM read_parquet('data/services.parquet');\n",
    "    \"\"\"\n",
    ")"
   ]
  },
  {
   "cell_type": "code",
   "execution_count": 11,
   "id": "f75dbfea",
   "metadata": {},
   "outputs": [
    {
     "data": {
      "application/vnd.jupyter.widget-view+json": {
       "model_id": "3e68fc4cd34342f2b3adaafcd37a2c23",
       "version_major": 2,
       "version_minor": 0
      },
      "text/plain": [
       "FloatProgress(value=0.0, layout=Layout(width='auto'), style=ProgressStyle(bar_color='black'))"
      ]
     },
     "metadata": {},
     "output_type": "display_data"
    },
    {
     "data": {
      "application/vnd.jupyter.widget-view+json": {
       "model_id": "ab4f4974f9dd4970ab1c85f03b19f6c1",
       "version_major": 2,
       "version_minor": 0
      },
      "text/plain": [
       "FloatProgress(value=0.0, layout=Layout(width='auto'), style=ProgressStyle(bar_color='black'))"
      ]
     },
     "metadata": {},
     "output_type": "display_data"
    }
   ],
   "source": [
    "recent_services = [\n",
    "    \"data/services_2024.csv\",\n",
    "    # \"data/services_2023.csv\",\n",
    "    # \"data/services_2022.csv\",\n",
    "]\n",
    "csv_paths_str = \", \".join(f\"'{str(f)}'\" for f in recent_services)\n",
    "\n",
    "\n",
    "duckdb.sql(f\"\"\"\n",
    "    COPY (\n",
    "        SELECT * FROM read_csv_auto([{csv_paths_str}])\n",
    "    ) TO 'data/services_small.parquet' (FORMAT PARQUET)\n",
    "\"\"\")\n",
    "\n",
    "\n",
    "duckdb.sql(\"\"\"\n",
    "    CREATE TABLE IF NOT EXISTS services AS \n",
    "    SELECT * FROM read_parquet('data/services_small.parquet')\n",
    "\"\"\")\n"
   ]
  },
  {
   "cell_type": "markdown",
   "id": "119946d3",
   "metadata": {},
   "source": [
    "## 6. 7 Queries"
   ]
  },
  {
   "cell_type": "markdown",
   "id": "608ed266",
   "metadata": {},
   "source": [
    "### i. How many trains departed from Amsterdam Central station overall?\n"
   ]
  },
  {
   "cell_type": "code",
   "execution_count": 15,
   "id": "f863134d",
   "metadata": {},
   "outputs": [
    {
     "data": {
      "text/plain": [
       "┌──────────────┐\n",
       "│ count_star() │\n",
       "│    int64     │\n",
       "├──────────────┤\n",
       "│       267099 │\n",
       "└──────────────┘"
      ]
     },
     "execution_count": 15,
     "metadata": {},
     "output_type": "execute_result"
    }
   ],
   "source": [
    "duckdb.sql(\n",
    "    \"\"\"\n",
    "    SELECT COUNT(*) from services s\n",
    "    WHERE s.\"Stop:Departure time\" IS NOT NULL \n",
    "    AND s.\"Stop:Station code\" = 'ASD'\n",
    "\"\"\"\n",
    ")"
   ]
  },
  {
   "cell_type": "markdown",
   "id": "ca27c386",
   "metadata": {},
   "source": [
    "### ii. Calculate the average arrival delay of different service types (Service:Type). Order results descending by average delay"
   ]
  },
  {
   "cell_type": "code",
   "execution_count": 16,
   "id": "8c9a283d",
   "metadata": {},
   "outputs": [
    {
     "data": {
      "text/plain": [
       "┌───────────────────────┬───────────────────┐\n",
       "│       avg_delay       │       type        │\n",
       "│        double         │      varchar      │\n",
       "├───────────────────────┼───────────────────┤\n",
       "│    10.938271604938272 │ European Sleeper  │\n",
       "│                   8.0 │ Stoomtrein        │\n",
       "│     7.729795462700849 │ Nightjet          │\n",
       "│     6.191587512856192 │ Eurostar          │\n",
       "│     6.023166974738139 │ ICE International │\n",
       "│    3.4217391304347826 │ Nachttrein        │\n",
       "│    3.2816901408450705 │ Int. Trein        │\n",
       "│    2.6484688352141443 │ Intercity direct  │\n",
       "│    2.3796818149390027 │ Extra trein       │\n",
       "│    1.9153005464480874 │ Eurocity Direct   │\n",
       "│    1.5470227660067766 │ Sneltrein         │\n",
       "│     1.347713386409924 │ EuroCity          │\n",
       "│    1.1113020797737811 │ Intercity         │\n",
       "│    0.7834182353591754 │ Sprinter          │\n",
       "│    0.7000531187700209 │ Stoptrein         │\n",
       "│    0.6510134081696289 │ Speciale Trein    │\n",
       "│ 0.0004128890519107161 │ Stopbus ipv trein │\n",
       "│ 2.973472378565512e-05 │ Snelbus ipv trein │\n",
       "│                   0.0 │ Metro ipv trein   │\n",
       "│                   0.0 │ Belbus            │\n",
       "│                   0.0 │ Taxibus ipv trein │\n",
       "│                   0.0 │ Bus               │\n",
       "├───────────────────────┴───────────────────┤\n",
       "│ 22 rows                         2 columns │\n",
       "└───────────────────────────────────────────┘"
      ]
     },
     "execution_count": 16,
     "metadata": {},
     "output_type": "execute_result"
    }
   ],
   "source": [
    "duckdb.sql(\n",
    "    \"\"\"\n",
    "    SELECT \n",
    "        AVG(COALESCE(s.\"Stop:Arrival delay\", 0)) AS avg_delay,\n",
    "        s.\"Service:Type\" as type\n",
    "    FROM services s\n",
    "    GROUP BY s.\"Service:Type\"\n",
    "    ORDER BY avg_delay DESC\n",
    "\"\"\"\n",
    ")"
   ]
  },
  {
   "cell_type": "markdown",
   "id": "b21bc3b4",
   "metadata": {},
   "source": [
    "### iii. What was the most common disruption cause in different years? MODE function may be useful.\n"
   ]
  },
  {
   "cell_type": "code",
   "execution_count": 17,
   "id": "d16ae008",
   "metadata": {},
   "outputs": [
    {
     "data": {
      "text/plain": [
       "┌───────┬───────────────────────┐\n",
       "│ year  │ most_disruption_cause │\n",
       "│ int64 │        varchar        │\n",
       "├───────┼───────────────────────┤\n",
       "│  2011 │ broken down train     │\n",
       "│  2012 │ points failure        │\n",
       "│  2013 │ points failure        │\n",
       "│  2014 │ broken down train     │\n",
       "│  2015 │ broken down train     │\n",
       "│  2016 │ broken down train     │\n",
       "│  2017 │ broken down train     │\n",
       "│  2018 │ broken down train     │\n",
       "│  2019 │ broken down train     │\n",
       "│  2020 │ broken down train     │\n",
       "│  2021 │ broken down train     │\n",
       "│  2022 │ broken down train     │\n",
       "│  2023 │ broken down train     │\n",
       "├───────┴───────────────────────┤\n",
       "│ 13 rows             2 columns │\n",
       "└───────────────────────────────┘"
      ]
     },
     "execution_count": 17,
     "metadata": {},
     "output_type": "execute_result"
    }
   ],
   "source": [
    "duckdb.sql(\n",
    "    \"\"\"\n",
    "    SELECT \n",
    "        d.YEAR as year,\n",
    "        MODE(d.cause_en) as most_disruption_cause,\n",
    "    FROM pg.disruptions d\n",
    "    GROUP BY d.YEAR\n",
    "    ORDER BY d.YEAR\n",
    "\"\"\"\n",
    ")"
   ]
  },
  {
   "cell_type": "markdown",
   "id": "4acbdb49",
   "metadata": {},
   "source": [
    "### iv. How many trains started their overall service in any Amsterdam station?\n"
   ]
  },
  {
   "cell_type": "code",
   "execution_count": 18,
   "id": "f5173c0c",
   "metadata": {},
   "outputs": [
    {
     "data": {
      "text/plain": [
       "┌─────────────────────┐\n",
       "│ starts_in_amsterdam │\n",
       "│        int64        │\n",
       "├─────────────────────┤\n",
       "│              166209 │\n",
       "└─────────────────────┘"
      ]
     },
     "execution_count": 18,
     "metadata": {},
     "output_type": "execute_result"
    }
   ],
   "source": [
    "duckdb.sql(\n",
    "    \"\"\"\n",
    "    SELECT \n",
    "        COUNT(DISTINCT \"Service:RDT-ID\") as starts_in_amsterdam\n",
    "        FROM services s\n",
    "        JOIN stations st ON s.\"Stop:Station code\" = st.code\n",
    "        WHERE s.\"Stop:Arrival time\" IS NULL AND st.name_long LIKE '%Amsterdam%'\n",
    "\"\"\"\n",
    ")"
   ]
  },
  {
   "cell_type": "markdown",
   "id": "a6a53089",
   "metadata": {},
   "source": [
    "### v. What fraction of services was run to final destinations outside the Netherlands?\n"
   ]
  },
  {
   "cell_type": "code",
   "execution_count": 19,
   "id": "55049a1a",
   "metadata": {},
   "outputs": [
    {
     "data": {
      "text/plain": [
       "┌─────────────────────┐\n",
       "│ fraction_outside_nl │\n",
       "│       double        │\n",
       "├─────────────────────┤\n",
       "│ 0.04071952052989696 │\n",
       "└─────────────────────┘"
      ]
     },
     "execution_count": 19,
     "metadata": {},
     "output_type": "execute_result"
    }
   ],
   "source": [
    "duckdb.sql(\n",
    "    \"\"\" \n",
    "    WITH intenrational_final_stations AS (\n",
    "        SELECT \n",
    "            s.\"Service:RDT-ID\",\n",
    "            st.country,\n",
    "            s.\"Service:Date\"\n",
    "        FROM services s \n",
    "        JOIN stations st ON s.\"Stop:Station code\" = st.code\n",
    "        WHERE s.\"Stop:Departure time\" IS NULL\n",
    "    )\n",
    "    SELECT \n",
    "        COUNTIF(country <> 'NL') * 1.0 / COUNT(*) AS fraction_outside_nl\n",
    "    FROM intenrational_final_stations;\n",
    "    \"\"\"\n",
    ")"
   ]
  },
  {
   "cell_type": "markdown",
   "id": "d9c607d4",
   "metadata": {},
   "source": [
    "### vi. What is the largest distance between stations in the Netherlands (code NL)?"
   ]
  },
  {
   "cell_type": "code",
   "execution_count": 20,
   "id": "5a3550db",
   "metadata": {},
   "outputs": [
    {
     "data": {
      "text/plain": [
       "┌───────────────┬─────────────┬─────────┬─────────┬─────────┬─────────┐\n",
       "│  column_name  │ column_type │  null   │   key   │ default │  extra  │\n",
       "│    varchar    │   varchar   │ varchar │ varchar │ varchar │ varchar │\n",
       "├───────────────┼─────────────┼─────────┼─────────┼─────────┼─────────┤\n",
       "│ Station       │ VARCHAR     │ YES     │ NULL    │ NULL    │ NULL    │\n",
       "│ other_station │ VARCHAR     │ YES     │ NULL    │ NULL    │ NULL    │\n",
       "│ distance      │ VARCHAR     │ YES     │ NULL    │ NULL    │ NULL    │\n",
       "└───────────────┴─────────────┴─────────┴─────────┴─────────┴─────────┘"
      ]
     },
     "execution_count": 20,
     "metadata": {},
     "output_type": "execute_result"
    }
   ],
   "source": [
    "duckdb.sql(\n",
    "    \"\"\"\n",
    "    DESCRIBE distances_long\n",
    "    \"\"\"\n",
    ")"
   ]
  },
  {
   "cell_type": "code",
   "execution_count": 21,
   "id": "c9643023",
   "metadata": {},
   "outputs": [
    {
     "data": {
      "text/plain": [
       "┌─────────────┬─────────────┬─────────┬─────────┬─────────┬─────────┐\n",
       "│ column_name │ column_type │  null   │   key   │ default │  extra  │\n",
       "│   varchar   │   varchar   │ varchar │ varchar │ varchar │ varchar │\n",
       "├─────────────┼─────────────┼─────────┼─────────┼─────────┼─────────┤\n",
       "│ id          │ BIGINT      │ YES     │ NULL    │ NULL    │ NULL    │\n",
       "│ code        │ VARCHAR     │ YES     │ NULL    │ NULL    │ NULL    │\n",
       "│ uic         │ BIGINT      │ YES     │ NULL    │ NULL    │ NULL    │\n",
       "│ name_short  │ VARCHAR     │ YES     │ NULL    │ NULL    │ NULL    │\n",
       "│ name_medium │ VARCHAR     │ YES     │ NULL    │ NULL    │ NULL    │\n",
       "│ name_long   │ VARCHAR     │ YES     │ NULL    │ NULL    │ NULL    │\n",
       "│ slug        │ VARCHAR     │ YES     │ NULL    │ NULL    │ NULL    │\n",
       "│ country     │ VARCHAR     │ YES     │ NULL    │ NULL    │ NULL    │\n",
       "│ type        │ VARCHAR     │ YES     │ NULL    │ NULL    │ NULL    │\n",
       "│ geo_lat     │ DOUBLE      │ YES     │ NULL    │ NULL    │ NULL    │\n",
       "│ geo_lng     │ DOUBLE      │ YES     │ NULL    │ NULL    │ NULL    │\n",
       "├─────────────┴─────────────┴─────────┴─────────┴─────────┴─────────┤\n",
       "│ 11 rows                                                 6 columns │\n",
       "└───────────────────────────────────────────────────────────────────┘"
      ]
     },
     "execution_count": 21,
     "metadata": {},
     "output_type": "execute_result"
    }
   ],
   "source": [
    "duckdb.sql(\n",
    "    \"\"\"\n",
    "    DESCRIBE stations\n",
    "    \"\"\"\n",
    ")"
   ]
  },
  {
   "cell_type": "code",
   "execution_count": 22,
   "id": "bf01daf7",
   "metadata": {},
   "outputs": [
    {
     "data": {
      "text/plain": [
       "┌─────────────────┬──────────────┬────────────┐\n",
       "│ max_distance_km │ from_station │ to_station │\n",
       "│     double      │   varchar    │  varchar   │\n",
       "├─────────────────┼──────────────┼────────────┤\n",
       "│           426.0 │ Vlissingen   │ Eemshaven  │\n",
       "└─────────────────┴──────────────┴────────────┘"
      ]
     },
     "execution_count": 22,
     "metadata": {},
     "output_type": "execute_result"
    }
   ],
   "source": [
    "duckdb.sql(\n",
    "    \"\"\" \n",
    "    SELECT \n",
    "        CAST(d.distance AS DOUBLE) AS max_distance_km,\n",
    "        s_from.name_long AS from_station,\n",
    "        s_to.name_long AS to_station\n",
    "    FROM distances_long d\n",
    "    JOIN stations s_from ON d.Station = s_from.code\n",
    "    JOIN stations s_to ON d.other_station = s_to.code\n",
    "    WHERE s_from.country = 'NL'\n",
    "    AND s_to.country = 'NL'\n",
    "    AND d.distance != 'XXX'\n",
    "    ORDER BY max_distance_km DESC\n",
    "    LIMIT 1;\n",
    "    \"\"\"\n",
    ")"
   ]
  },
  {
   "cell_type": "markdown",
   "id": "6c7cd423",
   "metadata": {},
   "source": [
    "### vii. Compare the average arrival delay between different train operators (Service:Company) on a bar plot. Sort them appropriately."
   ]
  },
  {
   "cell_type": "code",
   "execution_count": 23,
   "id": "c31abc17",
   "metadata": {},
   "outputs": [
    {
     "data": {
      "image/png": "[encoded data removed]",
      "text/plain": [
       "<Figure size 1000x600 with 1 Axes>"
      ]
     },
     "metadata": {},
     "output_type": "display_data"
    }
   ],
   "source": [
    "delays_df = duckdb.sql(\"\"\"\n",
    "    SELECT \n",
    "        s.\"Service:Company\" as operator,\n",
    "        AVG(COALESCE(\"Stop:Arrival delay\", 0)) as avg_delay\n",
    "        FROM services s\n",
    "        GROUP BY s.\"Service:Company\"\n",
    "        ORDER BY avg_delay DESC;\n",
    "\"\"\").df()\n",
    "\n",
    "plt.figure(figsize=(10, 6))\n",
    "plt.barh(delays_df[\"operator\"], delays_df[\"avg_delay\"])\n",
    "plt.xlabel(\"Average arrival delay (minutes)\")\n",
    "plt.ylabel(\"Operator\")\n",
    "plt.title(\"Average Arrival Delay by Train Operator\")\n",
    "plt.tight_layout()\n",
    "plt.show()\n"
   ]
  },
  {
   "cell_type": "markdown",
   "id": "afc38335",
   "metadata": {},
   "source": [
    "### viii. How many services were disrupted in different years? Make a line plot.\n"
   ]
  },
  {
   "cell_type": "code",
   "execution_count": 39,
   "id": "1ccd6581",
   "metadata": {},
   "outputs": [
    {
     "data": {
      "text/plain": [
       "┌──────────────────────────┐\n",
       "│ count(DISTINCT d.\"year\") │\n",
       "│          int64           │\n",
       "├──────────────────────────┤\n",
       "│                       13 │\n",
       "└──────────────────────────┘"
      ]
     },
     "execution_count": 39,
     "metadata": {},
     "output_type": "execute_result"
    }
   ],
   "source": [
    "duckdb.sql(\n",
    "    \"\"\"\n",
    "    SELECT COUNT(DISTINCT d.year) FROM pg.disruptions d\n",
    "    \"\"\"\n",
    ")"
   ]
  },
  {
   "cell_type": "code",
   "execution_count": 53,
   "id": "6d31ab51",
   "metadata": {},
   "outputs": [
    {
     "data": {
      "image/png": "[encoded data removed]",
      "text/plain": [
       "<Figure size 700x400 with 1 Axes>"
      ]
     },
     "metadata": {},
     "output_type": "display_data"
    }
   ],
   "source": [
    "disruptions_df = duckdb.sql(\"\"\"\n",
    "    SELECT \n",
    "        d.year as year,\n",
    "        COUNT(DISTINCT d.rdt_id) AS disrupted_services\n",
    "    FROM pg.disruptions d\n",
    "    GROUP BY d.year\n",
    "    ORDER BY d.year;\n",
    "\"\"\").df()\n",
    "\n",
    "disruptions_df\n",
    "\n",
    "plt.figure(figsize=(7, 4))\n",
    "plt.plot(\n",
    "    disruptions_df[\"year\"], disruptions_df[\"disrupted_services\"], c=\"g\", marker=\"o\"\n",
    ")\n",
    "plt.xlabel(\"Year\")\n",
    "plt.ylabel(\"Disrupted Services Count\")\n",
    "plt.grid()\n",
    "plt.title(\"Disrupted Services Count by Year\")\n",
    "plt.tight_layout()\n",
    "plt.show()"
   ]
  },
  {
   "cell_type": "markdown",
   "id": "2fe4ae91",
   "metadata": {},
   "source": [
    "### ix. What fraction of all services were cancelled (Service:Completely cancelled) in different years? Make a line plot.\n"
   ]
  },
  {
   "cell_type": "code",
   "execution_count": 58,
   "id": "86cac3ad",
   "metadata": {},
   "outputs": [
    {
     "data": {
      "image/png": "[encoded data removed]",
      "text/plain": [
       "<Figure size 700x400 with 1 Axes>"
      ]
     },
     "metadata": {},
     "output_type": "display_data"
    }
   ],
   "source": [
    "# NOTE THAT THIS IS READ FROM PARQUET (in service there is only 1 year - couldnt load full table into ram)\n",
    "cancelled_fraction_df = duckdb.sql(\"\"\"\n",
    "    SELECT \n",
    "        EXTRACT(YEAR FROM s.\"Service:Date\") AS year,\n",
    "        COUNT(*) AS total_services,\n",
    "        COUNTIF(s.\"Service:Completely cancelled\" = TRUE) * 1.0 / COUNT(*) AS fraction_cancelled\n",
    "    FROM read_parquet('data/services.parquet') s\n",
    "    GROUP BY year\n",
    "    ORDER BY year;\n",
    "\"\"\").df()\n",
    "\n",
    "cancelled_fraction_df\n",
    "\n",
    "plt.figure(figsize=(7, 4))\n",
    "plt.plot(\n",
    "    cancelled_fraction_df[\"year\"],\n",
    "    cancelled_fraction_df[\"fraction_cancelled\"],\n",
    "    c=\"g\",\n",
    "    marker=\"o\",\n",
    ")\n",
    "plt.xlabel(\"Year\")\n",
    "plt.ylabel(\"Fractions of Cancelled Services\")\n",
    "plt.grid()\n",
    "plt.title(\"Fractions of Cancelled Services by Year\")\n",
    "plt.show()"
   ]
  },
  {
   "cell_type": "markdown",
   "id": "7c1bdc8c",
   "metadata": {},
   "source": [
    "## 8. station_connection table"
   ]
  },
  {
   "cell_type": "markdown",
   "id": "246d7e21",
   "metadata": {},
   "source": [
    "### i. LEAD\n",
    "\n",
    "`lead(expr[, offset[, default]][ ORDER BY ordering][ IGNORE NULLS])`\n",
    "\n",
    "Returns expr evaluated at the row that is offset rows after the current row (among rows with a non-null value of expr if IGNORE NULLS is set) within the window frame; if there is no such row, instead return default (which must be of the Same type as expr). Both offset and default are evaluated with respect to the current row. If omitted, offset defaults to 1 and default to NULL.\n",
    "\n",
    "\n",
    "**FILTER**\n",
    "\n",
    "\n",
    "The FILTER clause may optionally follow an aggregate function in a SELECT statement. This will filter the rows of data that are fed into the aggregate function in the same way that a WHERE clause filters rows, but localized to the specific aggregate function.\n",
    "\n",
    "There are multiple types of situations where this is useful, including when evaluating multiple aggregates with different filters, and when creating a pivoted view of a dataset. FILTER provides a cleaner syntax for pivoting data when compared with the more traditional CASE WHEN approach discussed below.\n",
    "\n",
    "Some aggregate functions also do not filter out NULL values, so using a FILTER clause will return valid results when at times the CASE WHEN approach will not. This occurs with the functions first and last, which are desirable in a non-aggregating pivot operation where the goal is to simply re-orient the data into columns rather than re-aggregate it. FILTER also improves NULL handling when using the list and array_agg functions, as the CASE WHEN approach will include NULL values in the list result, while the FILTER clause will remove them."
   ]
  },
  {
   "cell_type": "markdown",
   "id": "9fd863e5",
   "metadata": {},
   "source": [
    "### ii. Create station_connections"
   ]
  },
  {
   "cell_type": "code",
   "execution_count": 25,
   "id": "05415725",
   "metadata": {},
   "outputs": [],
   "source": [
    "duckdb.sql(\n",
    "    \"\"\"\n",
    "        CREATE TABLE station_connections AS\n",
    "        WITH service_ends AS (\n",
    "            SELECT\n",
    "                s.\"Service:RDT-ID\" AS service_id,\n",
    "                MIN(s.\"Stop:Station code\") FILTER (WHERE s.\"Stop:Arrival time\" IS NULL) AS start_station_code,\n",
    "                MAX(s.\"Stop:Station code\") FILTER (WHERE s.\"Stop:Departure time\" IS NULL) AS end_station_code\n",
    "            FROM services s\n",
    "            GROUP BY s.\"Service:RDT-ID\"\n",
    "        )\n",
    "        SELECT DISTINCT\n",
    "            se.service_id,\n",
    "            se.start_station_code,\n",
    "            se.end_station_code,\n",
    "            d.distance AS distance_km\n",
    "        FROM service_ends se\n",
    "        JOIN distances_long d\n",
    "            ON se.start_station_code = d.Station\n",
    "        AND se.end_station_code = d.other_station;\n",
    "    \"\"\"\n",
    ")\n"
   ]
  },
  {
   "cell_type": "code",
   "execution_count": 26,
   "id": "6d52e336",
   "metadata": {},
   "outputs": [
    {
     "data": {
      "text/plain": [
       "┌──────────────┐\n",
       "│ count_star() │\n",
       "│    int64     │\n",
       "├──────────────┤\n",
       "│      2235932 │\n",
       "└──────────────┘"
      ]
     },
     "execution_count": 26,
     "metadata": {},
     "output_type": "execute_result"
    }
   ],
   "source": [
    "duckdb.sql(\n",
    "    \"\"\"\n",
    "    SELECT COUNT(*) FROM station_connections\n",
    "    \"\"\"\n",
    ")"
   ]
  },
  {
   "cell_type": "markdown",
   "id": "ecf98c75",
   "metadata": {},
   "source": [
    "### iii. What is the largest distance between a pair of stations?\n"
   ]
  },
  {
   "cell_type": "code",
   "execution_count": 30,
   "id": "adf759ba",
   "metadata": {},
   "outputs": [
    {
     "data": {
      "text/plain": [
       "┌────────────────────┬──────────────────┬─────────────────┐\n",
       "│ start_station_code │ end_station_code │ max_distance_km │\n",
       "│      varchar       │     varchar      │     varchar     │\n",
       "├────────────────────┼──────────────────┼─────────────────┤\n",
       "│ GVC                │ HNK              │ 99              │\n",
       "└────────────────────┴──────────────────┴─────────────────┘"
      ]
     },
     "execution_count": 30,
     "metadata": {},
     "output_type": "execute_result"
    }
   ],
   "source": [
    "duckdb.sql(\n",
    "    \"\"\"\n",
    "        SELECT \n",
    "            start_station_code,\n",
    "            end_station_code,\n",
    "            distance_km AS max_distance_km\n",
    "        FROM station_connections\n",
    "        WHERE max_distance_km != 'XXX'\n",
    "        ORDER BY distance_km DESC\n",
    "        LIMIT 1;\n",
    "    \"\"\"\n",
    ")"
   ]
  },
  {
   "cell_type": "markdown",
   "id": "e08a8751",
   "metadata": {},
   "source": [
    "### iv. Plot a histogram of inter-station distances run by trains.\n",
    "\n"
   ]
  },
  {
   "cell_type": "code",
   "execution_count": 62,
   "id": "faeda18f",
   "metadata": {},
   "outputs": [
    {
     "data": {
      "image/png": "[encoded data removed]",
      "text/plain": [
       "<Figure size 640x480 with 1 Axes>"
      ]
     },
     "metadata": {},
     "output_type": "display_data"
    }
   ],
   "source": [
    "distances_df = duckdb.sql(\n",
    "    \"\"\"\n",
    "        SELECT sc.distance_km \n",
    "        FROM station_connections sc\n",
    "        WHERE sc.distance_km IS NOT NULL\n",
    "        ORDER BY sc.distance_km DESC\n",
    "    \"\"\"\n",
    ").df()\n",
    "\n",
    "bins = np.arange(0, 250, 10)\n",
    "\n",
    "counts, bin_edges, _ = plt.hist(\n",
    "    distances_df[\"distance_km\"], bins=bins, color=\"skyblue\", edgecolor=\"black\"\n",
    ")\n",
    "\n",
    "bin_labels = [\n",
    "    f\"{int(start)}-{int(end)}\" for start, end in zip(bin_edges[:-1], bin_edges[1:])\n",
    "]\n",
    "\n",
    "plt.xticks(ticks=(bin_edges[:-1] + bin_edges[1:]) / 2, labels=bin_labels, rotation=45)\n",
    "\n",
    "plt.xlabel(\"Distance between stations (km)\")\n",
    "plt.ylabel(\"Number of station pairs\")\n",
    "plt.title(\"Histogram of Inter-Station Distances\")\n",
    "plt.grid(axis=\"y\", alpha=0.75)\n",
    "plt.tight_layout()\n",
    "plt.show()\n"
   ]
  }
 ],
 "metadata": {
  "kernelspec": {
   "display_name": "Python 3 (ipykernel)",
   "language": "python",
   "name": "python3"
  },
  "language_info": {
   "codemirror_mode": {
    "name": "ipython",
    "version": 3
   },
   "file_extension": ".py",
   "mimetype": "text/x-python",
   "name": "python",
   "nbconvert_exporter": "python",
   "pygments_lexer": "ipython3",
   "version": "3.12.3"
  }
 },
 "nbformat": 4,
 "nbformat_minor": 5
}
